{
 "cells": [
  {
   "cell_type": "markdown",
   "metadata": {},
   "source": [
    "# A Two-Stage Sabermetrics Bayesian Model of Baseball Predictions\n",
    "\n",
    "## AM207 Final Project\n",
    "## Author: Thomas Leu"
   ]
  },
  {
   "cell_type": "code",
   "execution_count": 1,
   "metadata": {
    "collapsed": true
   },
   "outputs": [],
   "source": [
    "import matplotlib\n",
    "import matplotlib.pyplot as plt\n",
    "%matplotlib inline\n",
    "\n",
    "import seaborn as sns\n",
    "sns.set_style(\"white\")\n",
    "\n",
    "import time\n",
    "import timeit\n",
    "\n",
    "import scipy.stats \n",
    "import pandas as pd\n",
    "import pymc as pm\n",
    "\n",
    "import re\n",
    "import numpy as np\n",
    "\n",
    "import string\n",
    "import json"
   ]
  },
  {
   "cell_type": "markdown",
   "metadata": {
    "collapsed": true
   },
   "source": [
    "## Introduction\n",
    "\n",
    "An [article](http://www.jds-online.com/v2-1) published in the Journal of Data Science in January 2001 attempts to \n",
    "build a Bayesian model for predicting baseball winners by comparing the winning percentage, batting average, and ERA \n",
    "(earned run average) of the opposing teams. These statistical measurements were widely used to compare teams and \n",
    "players until [Sabermetrics](http://sabr.org/sabermetrics/the-basics), an analysis of baseball statistics championed\n",
    "by Bill James and popularized in the book [Moneyball](https://en.wikipedia.org/wiki/Moneyball), began to replace these\n",
    "traditional ranking systems. \n",
    "\n",
    "The following notebook attempts to recreate the statistical models built in Yang and Swartz's paper using OBP (on base \n",
    "percentage), \n",
    "\n",
    "$$\n",
    "\\Theta = \\{r_{\\alpha}, r_{\\beta}, r_{\\gamma},\\delta\\}\n",
    "$$\n",
    "$$\n",
    "P(\\Theta|X,D) = P(X,D|\\Theta)P(\\Theta) \\propto \\Sigma_s [X_s ln(\\frac{\\lambda_s \\delta}{1 + \\lambda_s \\delta}) \n",
    "                                                        + (1-X_s)ln(\\frac{1}{1+\\lambda_s \\delta})]\n",
    "$$"
   ]
  },
  {
   "cell_type": "code",
   "execution_count": 5,
   "metadata": {
    "collapsed": false
   },
   "outputs": [
    {
     "name": "stdout",
     "output_type": "stream",
     "text": [
      "[ 0.  0.  0.  0.  0.  1.  0.  1.  1.  1.  0.  0.  1.  1.  1.  0.  0.  1.\n",
      "  1.  1.  1.  0.  0.  1.  1.  0.  1.  0.  1.  1.  1.  0.]\n"
     ]
    }
   ],
   "source": [
    "# load 2014 postseason data\n",
    "with open('2014_postseason.json', 'r') as infile:\n",
    "    postseason_2014_str = infile.read()\n",
    "    postseason_2014 = json.loads(postseason_2014_str)\n",
    "    \n",
    "num_games = len(postseason_2014['games'])\n",
    "original_data = np.empty((num_games,3))\n",
    "sabr_data = np.empty((num_games,3))\n",
    "home_wins = np.empty(num_games)\n",
    "\n",
    "\n",
    "pitchers = postseason_2014['pitchers']\n",
    "teams = postseason_2014['teams']\n",
    "\n",
    "def original_game_data(game):\n",
    "    home = game['home']; away = game['away']\n",
    "    era_ratio = pitchers[away['starter']]['era'] / pitchers[home['starter']]['era']\n",
    "    batavg_ratio = teams[home['team']]['BAT_AVG'] / teams[away['team']]['BAT_AVG']\n",
    "    win_ratio = teams[home['team']]['WIN_PCT'] / teams[away['team']]['WIN_PCT']\n",
    "    return np.array([era_ratio, batavg_ratio, win_ratio]), game['x']\n",
    "    \n",
    "def sabr_game_data(game):\n",
    "    home = game['home']; away = game['away']\n",
    "    fip_ratio = pitchers[away['starter']]['fip'] / pitchers[home['starter']]['fip']\n",
    "    ops_ratio = teams[home['team']]['OPS'] / teams[away['team']]['OPS']\n",
    "    win_ratio = teams[home['team']]['WIN_PCT'] / teams[away['team']]['WIN_PCT']\n",
    "    return np.array([fip_ratio, ops_ratio, win_ratio]), game['x']\n",
    "\n",
    "# build numpy data objects\n",
    "for i in xrange(num_games):\n",
    "    game = postseason_2014['games'][i]\n",
    "    original_data[i], home_wins[i] = original_game_data(game)\n",
    "    sabr_data[i], _ = sabr_game_data(game)"
   ]
  },
  {
   "cell_type": "code",
   "execution_count": 56,
   "metadata": {
    "collapsed": false
   },
   "outputs": [
    {
     "name": "stdout",
     "output_type": "stream",
     "text": [
      "R1 acceptance: 0.086\n",
      "R2 acceptance: 0.4586\n",
      "R3 acceptance: 0.3008\n",
      "Delta acceptance: 0.039\n"
     ]
    },
    {
     "data": {
      "text/plain": [
       "(array([  9.93800000e+03,   4.00000000e+00,   4.00000000e+00,\n",
       "          8.00000000e+00,   5.00000000e+00,   1.20000000e+01,\n",
       "          4.00000000e+00,   1.10000000e+01,   1.00000000e+01,\n",
       "          5.00000000e+00]),\n",
       " array([   0.48715604,   29.72665341,   58.96615078,   88.20564815,\n",
       "         117.44514552,  146.6846429 ,  175.92414027,  205.16363764,\n",
       "         234.40313501,  263.64263238,  292.88212975]),\n",
       " <a list of 10 Patch objects>)"
      ]
     },
     "execution_count": 56,
     "metadata": {},
     "output_type": "execute_result"
    },
    {
     "data": {
      "image/png": "[encoded data removed]",
      "text/plain": [
       "<matplotlib.figure.Figure at 0x111d93290>"
      ]
     },
     "metadata": {},
     "output_type": "display_data"
    }
   ],
   "source": [
    "def model_1_log_likelihood(home_wins, ratios, weights, home_adv):\n",
    "    '''Calculates the likelihood of the given parameters and data within\n",
    "    log space\n",
    "    \n",
    "    --Keywords--\n",
    "    :home_wins: A binary array with (x_s = 1) => home win in game s\n",
    "    :ratios: An size (m,n) float array with the ratios of the home and away teams stats\n",
    "    :weights: A size (1,n) float array with the weights for each statistical ratio\n",
    "    :home_adv: A constant measuring home field advantage'''\n",
    "    lambda_delta = np.prod(ratios ** weights,1) * home_adv\n",
    "    return np.sum(home_wins*np.log(lambda_delta/(1+lambda_delta))+(1-home_wins)*np.log(1/(1+lambda_delta)))\n",
    "\n",
    "###--------------###\n",
    "### DRAW SAMPLES ###\n",
    "###--------------###\n",
    "\n",
    "# variables for drawing samples\n",
    "num_samples = 10000\n",
    "accepted = [0,0,0,0]\n",
    "lower_bound = -500.\n",
    "upper_bound = 500\n",
    "step_size = 50\n",
    "\n",
    "\n",
    "def draw_r(home_wins, ratios, weights, home_adv, index, accepted):\n",
    "    # initial likelihood\n",
    "    weight = weights[index]\n",
    "    loglik = model_1_log_likelihood(home_wins, ratios, weights, home_adv)\n",
    "    \n",
    "    # new likelihood\n",
    "    low = max(lower_bound, weight-step_size)\n",
    "    high = min(upper_bound, weight+step_size)\n",
    "    weights_star = weights.copy()\n",
    "    weight_star = np.random.uniform(low=low, high=high)\n",
    "    weights_star[index] = weight_star\n",
    "    loglik_star = model_1_log_likelihood(home_wins, ratios, weights_star, home_adv)\n",
    "\n",
    "    # determine acceptance\n",
    "    if loglik_star - loglik >= np.log(np.random.uniform()):\n",
    "        accepted[index] += 1\n",
    "        return weight_star\n",
    "    return weight\n",
    "\n",
    "def draw_delta(home_wins, ratios, weights, delta, accepted):\n",
    "    low = max(lower_bound, delta-step_size)\n",
    "    high = min(upper_bound, delta+step_size)\n",
    "    delta_star = np.random.uniform(low=low, high=high)\n",
    "    loglik = model_1_log_likelihood(home_wins, ratios, weights, delta)\n",
    "    loglik_star = model_1_log_likelihood(home_wins, ratios, weights, delta_star)\n",
    "    \n",
    "    if loglik_star - loglik >= np.log(np.random.uniform()):\n",
    "        accepted[-1] += 1\n",
    "        return delta_star\n",
    "    return delta\n",
    "\n",
    "# samples = np.zeros((num_samples+1,4)) # add one for initial sample\n",
    "# samples[0] = np.random.uniform(high=upper_bound,size=4)\n",
    "\n",
    "\n",
    "# # original paper sampling\n",
    "# for i in xrange(1, num_samples+1):\n",
    "#     sample = samples[i-1].copy()\n",
    "#     sample[0] = draw_r(home_wins, original_data, sample[:-1], sample[-1], 0, accepted) # r_alpha_s\n",
    "#     sample[1] = draw_r(home_wins, original_data, sample[:-1], sample[-1], 1, accepted) # r_beta_s\n",
    "#     sample[2] = draw_r(home_wins, original_data, sample[:-1], sample[-1], 2, accepted) # r_gamma_s\n",
    "#     sample[3] = draw_delta(home_wins, original_data, sample[:-1], sample[-1], accepted)\n",
    "#     samples[i] = sample\n",
    "# print \"R1 acceptance: {}\".format(np.float(accepted[0])/num_samples)\n",
    "# print \"R2 acceptance: {}\".format(np.float(accepted[1])/num_samples)\n",
    "# print \"R3 acceptance: {}\".format(np.float(accepted[2])/num_samples)\n",
    "# print \"Delta acceptance: {}\".format(np.float(accepted[3])/num_samples)\n",
    "# plt.hist(samples[:,3])    \n",
    "\n",
    "samples = np.zeros((num_samples+1,4)) # add one for initial sample\n",
    "samples[0] = np.random.uniform(high=upper_bound,size=4)\n",
    "accepted = [0,0,0,0]\n",
    "\n",
    "for i in xrange(1, num_samples+1):\n",
    "    sample = samples[i-1].copy()\n",
    "    sample[0] = draw_r(home_wins, sabr_data, sample[:-1], sample[-1], 0, accepted) # r_alpha_s\n",
    "    sample[1] = draw_r(home_wins, sabr_data, sample[:-1], sample[-1], 1, accepted) # r_beta_s\n",
    "    sample[2] = draw_r(home_wins, sabr_data, sample[:-1], sample[-1], 2, accepted) # r_gamma_s\n",
    "    sample[3] = draw_delta(home_wins, sabr_data, sample[:-1], sample[-1], accepted)\n",
    "    samples[i] = sample\n",
    "print \"R1 acceptance: {}\".format(np.float(accepted[0])/num_samples)\n",
    "print \"R2 acceptance: {}\".format(np.float(accepted[1])/num_samples)\n",
    "print \"R3 acceptance: {}\".format(np.float(accepted[2])/num_samples)\n",
    "print \"Delta acceptance: {}\".format(np.float(accepted[3])/num_samples)\n",
    "plt.subplot(2,2,1).hist(samples[:,0])\n",
    "plt.subplot(2,2,2).hist(samples[:,1])\n",
    "plt.subplot(2,2,3).hist(samples[:,2])\n",
    "plt.subplot(2,2,4).hist(samples[:,3])"
   ]
  },
  {
   "cell_type": "code",
   "execution_count": 37,
   "metadata": {
    "collapsed": false
   },
   "outputs": [
    {
     "name": "stdout",
     "output_type": "stream",
     "text": [
      "32\n"
     ]
    },
    {
     "data": {
      "text/plain": [
       "0.53125"
      ]
     },
     "execution_count": 37,
     "metadata": {},
     "output_type": "execute_result"
    }
   ],
   "source": [
    "print len(home_wins)\n",
    "np.sum(home_wins)/len(home_wins)"
   ]
  },
  {
   "cell_type": "code",
   "execution_count": null,
   "metadata": {
    "collapsed": true
   },
   "outputs": [],
   "source": []
  }
 ],
 "metadata": {
  "kernelspec": {
   "display_name": "Python 2",
   "language": "python",
   "name": "python2"
  },
  "language_info": {
   "codemirror_mode": {
    "name": "ipython",
    "version": 2
   },
   "file_extension": ".py",
   "mimetype": "text/x-python",
   "name": "python",
   "nbconvert_exporter": "python",
   "pygments_lexer": "ipython2",
   "version": "2.7.11"
  }
 },
 "nbformat": 4,
 "nbformat_minor": 0
}
