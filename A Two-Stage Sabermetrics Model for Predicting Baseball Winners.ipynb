{
 "cells": [
  {
   "cell_type": "markdown",
   "metadata": {},
   "source": [
    "# A Two-Stage Sabermetrics Bayesian Model of Baseball Predictions\n",
    "\n",
    "## AM207 Final Project\n",
    "## Author: Thomas Leu"
   ]
  },
  {
   "cell_type": "code",
   "execution_count": 1,
   "metadata": {
    "collapsed": true
   },
   "outputs": [],
   "source": [
    "import matplotlib\n",
    "import matplotlib.pyplot as plt\n",
    "%matplotlib inline\n",
    "\n",
    "import seaborn as sns\n",
    "sns.set_style(\"white\")\n",
    "\n",
    "import time\n",
    "import timeit\n",
    "\n",
    "import scipy.stats \n",
    "import pandas as pd\n",
    "import pymc as pm\n",
    "\n",
    "import re\n",
    "import numpy as np\n",
    "\n",
    "import string\n",
    "import json"
   ]
  },
  {
   "cell_type": "markdown",
   "metadata": {
    "collapsed": true
   },
   "source": [
    "## Introduction\n",
    "\n",
    "An [article](http://www.jds-online.com/v2-1) published in the Journal of Data Science in January 2001 attempts to \n",
    "build a Bayesian model for predicting baseball winners by comparing the winning percentage, batting average, and ERA \n",
    "(earned run average) of the opposing teams. These statistical measurements were widely used to compare teams and \n",
    "players until [Sabermetrics](http://sabr.org/sabermetrics/the-basics), an analysis of baseball statistics championed\n",
    "by Bill James and popularized in the book [Moneyball](https://en.wikipedia.org/wiki/Moneyball), began to replace these\n",
    "traditional ranking systems. \n",
    "\n",
    "The following notebook attempts to recreate the statistical models built in Yang and Swartz's paper using OBP (on base \n",
    "percentage), "
   ]
  },
  {
   "cell_type": "code",
   "execution_count": 2,
   "metadata": {
    "collapsed": false
   },
   "outputs": [],
   "source": [
    "# load 2014 postseason data\n",
    "with open('2014_postseason.json', 'r') as infile:\n",
    "    postseason_2014_str = infile.read()\n",
    "    postseason_2014 = json.loads(postseason_2014_str)\n",
    "    \n",
    "num_games = len(postseason_2014['games'])\n",
    "original_data = np.empty((num_games,4))\n",
    "sabr_data = np.empty((num_games,4))\n",
    "\n",
    "pitchers = postseason_2014['pitchers']\n",
    "teams = postseason_2014['teams']\n",
    "\n",
    "def original_game_data(game):\n",
    "    home = game['home']; away = game['away']\n",
    "    era_ratio = pitchers[away['starter']]['era'] / pitchers[home['starter']]['era']\n",
    "    batavg_ratio = teams[home['team']]['BAT_AVG'] / teams[away['team']]['BAT_AVG']\n",
    "    win_ratio = teams[home['team']]['WIN_PCT'] / teams[away['team']]['WIN_PCT']\n",
    "    return np.array([era_ratio, batavg_ratio, win_ratio, game['x']])\n",
    "    \n",
    "def sabr_game_data(game):\n",
    "    home = game['home']; away = game['away']\n",
    "    fip_ratio = pitchers[away['starter']]['fip'] / pitchers[home['starter']]['fip']\n",
    "    ops_ratio = teams[home['team']]['OPS'] / teams[away['team']]['OPS']\n",
    "    win_ratio = teams[home['team']]['WIN_PCT'] / teams[away['team']]['WIN_PCT']\n",
    "    return np.array([fip_ratio, ops_ratio, win_ratio, game['x']])\n",
    "\n",
    "# build numpy data objects\n",
    "for i in xrange(num_games):\n",
    "    game = postseason_2014['games'][i]\n",
    "    original_data[i] = original_game_data(game)\n",
    "    sabr_data[i] = sabr_game_data(game)"
   ]
  },
  {
   "cell_type": "code",
   "execution_count": null,
   "metadata": {
    "collapsed": true
   },
   "outputs": [],
   "source": [
    "def likelihood(data, weights, home_adv):\n",
    "    print \"Under Construction\""
   ]
  }
 ],
 "metadata": {
  "kernelspec": {
   "display_name": "Python 2",
   "language": "python",
   "name": "python2"
  },
  "language_info": {
   "codemirror_mode": {
    "name": "ipython",
    "version": 2
   },
   "file_extension": ".py",
   "mimetype": "text/x-python",
   "name": "python",
   "nbconvert_exporter": "python",
   "pygments_lexer": "ipython2",
   "version": "2.7.11"
  }
 },
 "nbformat": 4,
 "nbformat_minor": 0
}
