{
 "cells": [
  {
   "cell_type": "markdown",
   "metadata": {},
   "source": [
    "# A Two-Stage Sabermetrics Bayesian Model of Baseball Predictions\n",
    "\n",
    "## AM207 Final Project\n",
    "## Author: Thomas Leu"
   ]
  },
  {
   "cell_type": "code",
   "execution_count": 1,
   "metadata": {
    "collapsed": true
   },
   "outputs": [],
   "source": [
    "import matplotlib\n",
    "import matplotlib.pyplot as plt\n",
    "%matplotlib inline\n",
    "\n",
    "import seaborn as sns\n",
    "sns.set_style(\"white\")\n",
    "\n",
    "import time\n",
    "import timeit\n",
    "\n",
    "import scipy.stats \n",
    "import pandas as pd\n",
    "import pymc as pm\n",
    "\n",
    "import re\n",
    "import numpy as np\n",
    "\n",
    "import string\n",
    "import json"
   ]
  },
  {
   "cell_type": "markdown",
   "metadata": {
    "collapsed": true
   },
   "source": [
    "## Introduction\n",
    "\n",
    "An [article](http://www.jds-online.com/v2-1) published in the Journal of Data Science in January 2001 attempts to \n",
    "build a Bayesian model for predicting baseball winners by comparing the winning percentage, batting average, and ERA \n",
    "(earned run average) of the opposing teams. These statistical measurements were widely used to compare teams and \n",
    "players until [Sabermetrics](http://sabr.org/sabermetrics/the-basics), an analysis of baseball statistics championed\n",
    "by Bill James and popularized in the book [Moneyball](https://en.wikipedia.org/wiki/Moneyball), began to replace these\n",
    "traditional ranking systems. \n",
    "\n",
    "The following notebook attempts to recreate the statistical models built in Yang and Swartz's paper using OBP (on base \n",
    "percentage), "
   ]
  },
  {
   "cell_type": "code",
   "execution_count": 14,
   "metadata": {
    "collapsed": false
   },
   "outputs": [
    {
     "name": "stdout",
     "output_type": "stream",
     "text": [
      "{u'fip': 3.05, u'era': 2.98}\n",
      "{u'fip': 4.15, u'era': 3.04}\n",
      "{u'fip': 3.13, u'era': 2.46}\n",
      "{u'fip': 3.59, u'era': 3.21}\n",
      "{u'fip': 2.94, u'era': 3.14}\n",
      "{u'fip': 3.03, u'era': 3.73}\n",
      "{u'fip': 2.68, u'era': 2.66}\n",
      "{u'fip': 3.54, u'era': 3.57}\n",
      "{u'fip': 3.05, u'era': 2.98}\n",
      "{u'fip': 3.93, u'era': 2.41}\n",
      "{u'fip': 3.85, u'era': 4.0}\n",
      "{u'fip': 3.02, u'era': 3.57}\n",
      "{u'fip': 1.81, u'era': 1.77}\n",
      "{u'fip': 2.88, u'era': 2.38}\n",
      "{u'fip': 2.97, u'era': 2.71}\n",
      "{u'fip': 3.35, u'era': 2.74}\n",
      "{u'fip': 3.78, u'era': 3.82}\n",
      "{u'fip': 2.62, u'era': 3.38}\n",
      "{u'fip': 4.54, u'era': 3.74}\n",
      "{u'fip': 1.81, u'era': 1.77}\n",
      "{u'fip': 4.19, u'era': 3.59}\n",
      "{u'fip': 3.84, u'era': 3.71}\n",
      "{u'fip': 3.26, u'era': 3.04}\n",
      "{u'fip': 3.6, u'era': 3.2}\n",
      "{u'fip': 3.59, u'era': 3.21}\n",
      "{u'fip': 4.31, u'era': 4.51}\n",
      "{u'fip': 4.01, u'era': 3.34}\n",
      "{u'fip': 2.85, u'era': 3.15}\n",
      "{u'fip': 3.89, u'era': 3.54}\n",
      "{u'fip': 3.74, u'era': 4.54}\n",
      "{u'fip': 2.78, u'era': 3.26}\n",
      "{u'fip': 4.22, u'era': 3.65}\n",
      "{u'fip': 2.88, u'era': 2.38}\n",
      "{u'fip': 3.05, u'era': 2.98}\n",
      "{u'fip': 3.35, u'era': 2.74}\n",
      "{u'fip': 3.03, u'era': 3.73}\n",
      "{u'fip': 3.54, u'era': 3.57}\n",
      "{u'fip': 3.78, u'era': 3.82}\n",
      "{u'fip': 3.85, u'era': 4.0}\n",
      "{u'fip': 4.54, u'era': 3.74}\n",
      "{u'fip': 3.05, u'era': 2.98}\n",
      "{u'fip': 2.88, u'era': 2.38}\n",
      "{u'fip': 4.01, u'era': 3.34}\n",
      "{u'fip': 3.59, u'era': 3.21}\n",
      "{u'fip': 4.22, u'era': 3.65}\n",
      "{u'fip': 3.6, u'era': 3.2}\n",
      "{u'fip': 4.32, u'era': 4.04}\n",
      "{u'fip': 3.89, u'era': 3.54}\n",
      "{u'fip': 3.84, u'era': 3.71}\n",
      "{u'fip': 4.89, u'era': 3.23}\n",
      "{u'fip': 3.59, u'era': 3.21}\n",
      "{u'fip': 3.05, u'era': 2.98}\n",
      "{u'fip': 3.6, u'era': 3.2}\n",
      "{u'fip': 3.03, u'era': 3.73}\n",
      "{u'fip': 3.54, u'era': 3.57}\n",
      "{u'fip': 4.32, u'era': 4.04}\n",
      "{u'fip': 3.85, u'era': 4.0}\n",
      "{u'fip': 3.84, u'era': 3.71}\n",
      "{u'fip': 3.05, u'era': 2.98}\n",
      "{u'fip': 3.59, u'era': 3.21}\n",
      "{u'fip': 3.6, u'era': 3.2}\n",
      "{u'fip': 3.03, u'era': 3.73}\n",
      "{u'fip': 4.32, u'era': 4.04}\n",
      "{u'fip': 3.54, u'era': 3.57}\n"
     ]
    }
   ],
   "source": [
    "# load 2014 postseason data\n",
    "with open('2014_postseason.json', 'r') as infile:\n",
    "    postseason_2014_str = infile.read()\n",
    "    postseason_2014 = json.loads(postseason_2014_str)"
   ]
  },
  {
   "cell_type": "code",
   "execution_count": null,
   "metadata": {
    "collapsed": true
   },
   "outputs": [],
   "source": []
  }
 ],
 "metadata": {
  "kernelspec": {
   "display_name": "Python 2",
   "language": "python",
   "name": "python2"
  },
  "language_info": {
   "codemirror_mode": {
    "name": "ipython",
    "version": 2
   },
   "file_extension": ".py",
   "mimetype": "text/x-python",
   "name": "python",
   "nbconvert_exporter": "python",
   "pygments_lexer": "ipython2",
   "version": "2.7.11"
  }
 },
 "nbformat": 4,
 "nbformat_minor": 0
}
